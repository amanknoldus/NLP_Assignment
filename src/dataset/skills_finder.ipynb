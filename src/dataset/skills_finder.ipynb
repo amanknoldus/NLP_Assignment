{
 "cells": [
  {
   "cell_type": "code",
   "execution_count": 3,
   "id": "29c5b562",
   "metadata": {},
   "outputs": [],
   "source": [
    "import pandas as pd\n",
    "import numpy as np"
   ]
  },
  {
   "cell_type": "code",
   "execution_count": 6,
   "id": "6e8a518c",
   "metadata": {},
   "outputs": [],
   "source": [
    "dataset = pd.read_csv(\"tech_skills.csv\")\n",
    "tech_dataframe = pd.DataFrame(dataset)"
   ]
  },
  {
   "cell_type": "code",
   "execution_count": 9,
   "id": "e0b79164",
   "metadata": {},
   "outputs": [
    {
     "data": {
      "text/html": [
       "<div>\n",
       "<style scoped>\n",
       "    .dataframe tbody tr th:only-of-type {\n",
       "        vertical-align: middle;\n",
       "    }\n",
       "\n",
       "    .dataframe tbody tr th {\n",
       "        vertical-align: top;\n",
       "    }\n",
       "\n",
       "    .dataframe thead th {\n",
       "        text-align: right;\n",
       "    }\n",
       "</style>\n",
       "<table border=\"1\" class=\"dataframe\">\n",
       "  <thead>\n",
       "    <tr style=\"text-align: right;\">\n",
       "      <th></th>\n",
       "      <th>O*NET-SOC Code</th>\n",
       "      <th>Title</th>\n",
       "      <th>Example</th>\n",
       "      <th>Commodity Code</th>\n",
       "      <th>Commodity Title</th>\n",
       "      <th>Hot Technology</th>\n",
       "    </tr>\n",
       "  </thead>\n",
       "  <tbody>\n",
       "    <tr>\n",
       "      <th>0</th>\n",
       "      <td>11-1011.00</td>\n",
       "      <td>Chief Executives</td>\n",
       "      <td>Adobe Systems Adobe Acrobat</td>\n",
       "      <td>43232202</td>\n",
       "      <td>Document management software</td>\n",
       "      <td>Y</td>\n",
       "    </tr>\n",
       "    <tr>\n",
       "      <th>1</th>\n",
       "      <td>11-1011.00</td>\n",
       "      <td>Chief Executives</td>\n",
       "      <td>AdSense Tracker</td>\n",
       "      <td>43232306</td>\n",
       "      <td>Data base user interface and query software</td>\n",
       "      <td>N</td>\n",
       "    </tr>\n",
       "    <tr>\n",
       "      <th>2</th>\n",
       "      <td>11-1011.00</td>\n",
       "      <td>Chief Executives</td>\n",
       "      <td>Atlassian JIRA</td>\n",
       "      <td>43232201</td>\n",
       "      <td>Content workflow software</td>\n",
       "      <td>Y</td>\n",
       "    </tr>\n",
       "    <tr>\n",
       "      <th>3</th>\n",
       "      <td>11-1011.00</td>\n",
       "      <td>Chief Executives</td>\n",
       "      <td>Blackbaud The Raiser's Edge</td>\n",
       "      <td>43232303</td>\n",
       "      <td>Customer relationship management CRM software</td>\n",
       "      <td>Y</td>\n",
       "    </tr>\n",
       "    <tr>\n",
       "      <th>4</th>\n",
       "      <td>11-1011.00</td>\n",
       "      <td>Chief Executives</td>\n",
       "      <td>ComputerEase Construction Accounting</td>\n",
       "      <td>43231601</td>\n",
       "      <td>Accounting software</td>\n",
       "      <td>N</td>\n",
       "    </tr>\n",
       "  </tbody>\n",
       "</table>\n",
       "</div>"
      ],
      "text/plain": [
       "  O*NET-SOC Code             Title                               Example  \\\n",
       "0     11-1011.00  Chief Executives           Adobe Systems Adobe Acrobat   \n",
       "1     11-1011.00  Chief Executives                       AdSense Tracker   \n",
       "2     11-1011.00  Chief Executives                        Atlassian JIRA   \n",
       "3     11-1011.00  Chief Executives           Blackbaud The Raiser's Edge   \n",
       "4     11-1011.00  Chief Executives  ComputerEase Construction Accounting   \n",
       "\n",
       "   Commodity Code                                Commodity Title  \\\n",
       "0        43232202                   Document management software   \n",
       "1        43232306    Data base user interface and query software   \n",
       "2        43232201                      Content workflow software   \n",
       "3        43232303  Customer relationship management CRM software   \n",
       "4        43231601                            Accounting software   \n",
       "\n",
       "  Hot Technology  \n",
       "0              Y  \n",
       "1              N  \n",
       "2              Y  \n",
       "3              Y  \n",
       "4              N  "
      ]
     },
     "execution_count": 9,
     "metadata": {},
     "output_type": "execute_result"
    }
   ],
   "source": [
    "tech_dataframe.head()"
   ]
  },
  {
   "cell_type": "code",
   "execution_count": 14,
   "id": "27183515",
   "metadata": {},
   "outputs": [
    {
     "data": {
      "text/plain": [
       "O*NET-SOC Code     0\n",
       "Title              0\n",
       "Example            0\n",
       "Commodity Code     0\n",
       "Commodity Title    0\n",
       "Hot Technology     0\n",
       "dtype: int64"
      ]
     },
     "execution_count": 14,
     "metadata": {},
     "output_type": "execute_result"
    }
   ],
   "source": [
    "tech_dataframe.isnull().sum()"
   ]
  },
  {
   "cell_type": "code",
   "execution_count": 20,
   "id": "a21a18b4",
   "metadata": {},
   "outputs": [
    {
     "data": {
      "text/html": [
       "<div>\n",
       "<style scoped>\n",
       "    .dataframe tbody tr th:only-of-type {\n",
       "        vertical-align: middle;\n",
       "    }\n",
       "\n",
       "    .dataframe tbody tr th {\n",
       "        vertical-align: top;\n",
       "    }\n",
       "\n",
       "    .dataframe thead th {\n",
       "        text-align: right;\n",
       "    }\n",
       "</style>\n",
       "<table border=\"1\" class=\"dataframe\">\n",
       "  <thead>\n",
       "    <tr style=\"text-align: right;\">\n",
       "      <th></th>\n",
       "      <th>Title</th>\n",
       "      <th>Example</th>\n",
       "      <th>Commodity Title</th>\n",
       "    </tr>\n",
       "  </thead>\n",
       "  <tbody>\n",
       "    <tr>\n",
       "      <th>0</th>\n",
       "      <td>Chief Executives</td>\n",
       "      <td>Adobe Systems Adobe Acrobat</td>\n",
       "      <td>Document management software</td>\n",
       "    </tr>\n",
       "    <tr>\n",
       "      <th>1</th>\n",
       "      <td>Chief Executives</td>\n",
       "      <td>AdSense Tracker</td>\n",
       "      <td>Data base user interface and query software</td>\n",
       "    </tr>\n",
       "    <tr>\n",
       "      <th>2</th>\n",
       "      <td>Chief Executives</td>\n",
       "      <td>Atlassian JIRA</td>\n",
       "      <td>Content workflow software</td>\n",
       "    </tr>\n",
       "    <tr>\n",
       "      <th>3</th>\n",
       "      <td>Chief Executives</td>\n",
       "      <td>Blackbaud The Raiser's Edge</td>\n",
       "      <td>Customer relationship management CRM software</td>\n",
       "    </tr>\n",
       "    <tr>\n",
       "      <th>4</th>\n",
       "      <td>Chief Executives</td>\n",
       "      <td>ComputerEase Construction Accounting</td>\n",
       "      <td>Accounting software</td>\n",
       "    </tr>\n",
       "    <tr>\n",
       "      <th>...</th>\n",
       "      <td>...</td>\n",
       "      <td>...</td>\n",
       "      <td>...</td>\n",
       "    </tr>\n",
       "    <tr>\n",
       "      <th>27853</th>\n",
       "      <td>Mine Shuttle Car Operators</td>\n",
       "      <td>Mine maintenance software</td>\n",
       "      <td>Facilities management software</td>\n",
       "    </tr>\n",
       "    <tr>\n",
       "      <th>27854</th>\n",
       "      <td>Tank Car, Truck, and Ship Loaders</td>\n",
       "      <td>CompuWeigh GMS</td>\n",
       "      <td>Data base user interface and query software</td>\n",
       "    </tr>\n",
       "    <tr>\n",
       "      <th>27855</th>\n",
       "      <td>Tank Car, Truck, and Ship Loaders</td>\n",
       "      <td>Data entry software</td>\n",
       "      <td>Data base user interface and query software</td>\n",
       "    </tr>\n",
       "    <tr>\n",
       "      <th>27856</th>\n",
       "      <td>Tank Car, Truck, and Ship Loaders</td>\n",
       "      <td>Distributed control system DCS</td>\n",
       "      <td>Materials requirements planning logistics and ...</td>\n",
       "    </tr>\n",
       "    <tr>\n",
       "      <th>27857</th>\n",
       "      <td>Tank Car, Truck, and Ship Loaders</td>\n",
       "      <td>Microsoft Excel</td>\n",
       "      <td>Spreadsheet software</td>\n",
       "    </tr>\n",
       "  </tbody>\n",
       "</table>\n",
       "<p>27858 rows × 3 columns</p>\n",
       "</div>"
      ],
      "text/plain": [
       "                                   Title  \\\n",
       "0                       Chief Executives   \n",
       "1                       Chief Executives   \n",
       "2                       Chief Executives   \n",
       "3                       Chief Executives   \n",
       "4                       Chief Executives   \n",
       "...                                  ...   \n",
       "27853         Mine Shuttle Car Operators   \n",
       "27854  Tank Car, Truck, and Ship Loaders   \n",
       "27855  Tank Car, Truck, and Ship Loaders   \n",
       "27856  Tank Car, Truck, and Ship Loaders   \n",
       "27857  Tank Car, Truck, and Ship Loaders   \n",
       "\n",
       "                                    Example  \\\n",
       "0               Adobe Systems Adobe Acrobat   \n",
       "1                           AdSense Tracker   \n",
       "2                            Atlassian JIRA   \n",
       "3               Blackbaud The Raiser's Edge   \n",
       "4      ComputerEase Construction Accounting   \n",
       "...                                     ...   \n",
       "27853             Mine maintenance software   \n",
       "27854                        CompuWeigh GMS   \n",
       "27855                   Data entry software   \n",
       "27856        Distributed control system DCS   \n",
       "27857                       Microsoft Excel   \n",
       "\n",
       "                                         Commodity Title  \n",
       "0                           Document management software  \n",
       "1            Data base user interface and query software  \n",
       "2                              Content workflow software  \n",
       "3          Customer relationship management CRM software  \n",
       "4                                    Accounting software  \n",
       "...                                                  ...  \n",
       "27853                     Facilities management software  \n",
       "27854        Data base user interface and query software  \n",
       "27855        Data base user interface and query software  \n",
       "27856  Materials requirements planning logistics and ...  \n",
       "27857                               Spreadsheet software  \n",
       "\n",
       "[27858 rows x 3 columns]"
      ]
     },
     "execution_count": 20,
     "metadata": {},
     "output_type": "execute_result"
    }
   ],
   "source": [
    "drop_col = [\"O*NET-SOC Code\",\"Commodity Code\", \"Hot Technology\"]\n",
    "tech_dataframe.drop(drop_col, axis=1)"
   ]
  },
  {
   "cell_type": "code",
   "execution_count": 28,
   "id": "40055b85",
   "metadata": {},
   "outputs": [
    {
     "data": {
      "text/plain": [
       "127"
      ]
     },
     "execution_count": 28,
     "metadata": {},
     "output_type": "execute_result"
    }
   ],
   "source": [
    "len(tech_dataframe[\"Commodity Title\"].unique())"
   ]
  },
  {
   "cell_type": "code",
   "execution_count": 27,
   "id": "007c00ad",
   "metadata": {},
   "outputs": [
    {
     "data": {
      "text/plain": [
       "8824"
      ]
     },
     "execution_count": 27,
     "metadata": {},
     "output_type": "execute_result"
    }
   ],
   "source": [
    "len(tech_dataframe[\"Example\"].unique())"
   ]
  },
  {
   "cell_type": "code",
   "execution_count": null,
   "id": "ad40cf3b",
   "metadata": {},
   "outputs": [],
   "source": []
  },
  {
   "cell_type": "code",
   "execution_count": null,
   "id": "476c7847",
   "metadata": {},
   "outputs": [],
   "source": []
  }
 ],
 "metadata": {
  "kernelspec": {
   "display_name": "Python 3 (ipykernel)",
   "language": "python",
   "name": "python3"
  },
  "language_info": {
   "codemirror_mode": {
    "name": "ipython",
    "version": 3
   },
   "file_extension": ".py",
   "mimetype": "text/x-python",
   "name": "python",
   "nbconvert_exporter": "python",
   "pygments_lexer": "ipython3",
   "version": "3.10.6"
  }
 },
 "nbformat": 4,
 "nbformat_minor": 5
}
